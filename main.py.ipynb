{
 "cells": [
  {
   "cell_type": "code",
   "execution_count": 4,
   "id": "2c3eeb1d",
   "metadata": {},
   "outputs": [
    {
     "name": "stdout",
     "output_type": "stream",
     "text": [
      "Requirement already satisfied: tensorflow in c:\\users\\hp\\anaconda3\\lib\\site-packages (2.11.0)\n",
      "Requirement already satisfied: tensorflow-intel==2.11.0 in c:\\users\\hp\\anaconda3\\lib\\site-packages (from tensorflow) (2.11.0)\n",
      "Requirement already satisfied: tensorflow-io-gcs-filesystem>=0.23.1 in c:\\users\\hp\\anaconda3\\lib\\site-packages (from tensorflow-intel==2.11.0->tensorflow) (0.31.0)\n",
      "Requirement already satisfied: h5py>=2.9.0 in c:\\users\\hp\\anaconda3\\lib\\site-packages (from tensorflow-intel==2.11.0->tensorflow) (3.7.0)\n",
      "Requirement already satisfied: google-pasta>=0.1.1 in c:\\users\\hp\\anaconda3\\lib\\site-packages (from tensorflow-intel==2.11.0->tensorflow) (0.2.0)\n",
      "Requirement already satisfied: termcolor>=1.1.0 in c:\\users\\hp\\anaconda3\\lib\\site-packages (from tensorflow-intel==2.11.0->tensorflow) (2.2.0)\n",
      "Requirement already satisfied: typing-extensions>=3.6.6 in c:\\users\\hp\\anaconda3\\lib\\site-packages (from tensorflow-intel==2.11.0->tensorflow) (4.3.0)\n",
      "Requirement already satisfied: astunparse>=1.6.0 in c:\\users\\hp\\anaconda3\\lib\\site-packages (from tensorflow-intel==2.11.0->tensorflow) (1.6.3)\n",
      "Requirement already satisfied: six>=1.12.0 in c:\\users\\hp\\anaconda3\\lib\\site-packages (from tensorflow-intel==2.11.0->tensorflow) (1.16.0)\n",
      "Requirement already satisfied: tensorflow-estimator<2.12,>=2.11.0 in c:\\users\\hp\\anaconda3\\lib\\site-packages (from tensorflow-intel==2.11.0->tensorflow) (2.11.0)\n",
      "Requirement already satisfied: keras<2.12,>=2.11.0 in c:\\users\\hp\\anaconda3\\lib\\site-packages (from tensorflow-intel==2.11.0->tensorflow) (2.11.0)\n",
      "Requirement already satisfied: absl-py>=1.0.0 in c:\\users\\hp\\anaconda3\\lib\\site-packages (from tensorflow-intel==2.11.0->tensorflow) (1.4.0)\n",
      "Requirement already satisfied: wrapt>=1.11.0 in c:\\users\\hp\\anaconda3\\lib\\site-packages (from tensorflow-intel==2.11.0->tensorflow) (1.14.1)\n",
      "Requirement already satisfied: grpcio<2.0,>=1.24.3 in c:\\users\\hp\\anaconda3\\lib\\site-packages (from tensorflow-intel==2.11.0->tensorflow) (1.51.3)\n",
      "Requirement already satisfied: protobuf<3.20,>=3.9.2 in c:\\users\\hp\\anaconda3\\lib\\site-packages (from tensorflow-intel==2.11.0->tensorflow) (3.19.6)\n",
      "Requirement already satisfied: packaging in c:\\users\\hp\\anaconda3\\lib\\site-packages (from tensorflow-intel==2.11.0->tensorflow) (21.3)\n",
      "Requirement already satisfied: numpy>=1.20 in c:\\users\\hp\\anaconda3\\lib\\site-packages (from tensorflow-intel==2.11.0->tensorflow) (1.21.5)\n",
      "Requirement already satisfied: tensorboard<2.12,>=2.11 in c:\\users\\hp\\anaconda3\\lib\\site-packages (from tensorflow-intel==2.11.0->tensorflow) (2.11.2)\n",
      "Requirement already satisfied: opt-einsum>=2.3.2 in c:\\users\\hp\\anaconda3\\lib\\site-packages (from tensorflow-intel==2.11.0->tensorflow) (3.3.0)\n",
      "Requirement already satisfied: flatbuffers>=2.0 in c:\\users\\hp\\anaconda3\\lib\\site-packages (from tensorflow-intel==2.11.0->tensorflow) (23.3.3)\n",
      "Requirement already satisfied: setuptools in c:\\users\\hp\\anaconda3\\lib\\site-packages (from tensorflow-intel==2.11.0->tensorflow) (63.4.1)\n",
      "Requirement already satisfied: libclang>=13.0.0 in c:\\users\\hp\\anaconda3\\lib\\site-packages (from tensorflow-intel==2.11.0->tensorflow) (15.0.6.1)\n",
      "Requirement already satisfied: gast<=0.4.0,>=0.2.1 in c:\\users\\hp\\anaconda3\\lib\\site-packages (from tensorflow-intel==2.11.0->tensorflow) (0.4.0)\n",
      "Requirement already satisfied: wheel<1.0,>=0.23.0 in c:\\users\\hp\\anaconda3\\lib\\site-packages (from astunparse>=1.6.0->tensorflow-intel==2.11.0->tensorflow) (0.37.1)\n",
      "Requirement already satisfied: google-auth-oauthlib<0.5,>=0.4.1 in c:\\users\\hp\\anaconda3\\lib\\site-packages (from tensorboard<2.12,>=2.11->tensorflow-intel==2.11.0->tensorflow) (0.4.6)\n",
      "Requirement already satisfied: requests<3,>=2.21.0 in c:\\users\\hp\\anaconda3\\lib\\site-packages (from tensorboard<2.12,>=2.11->tensorflow-intel==2.11.0->tensorflow) (2.28.1)\n",
      "Requirement already satisfied: tensorboard-plugin-wit>=1.6.0 in c:\\users\\hp\\anaconda3\\lib\\site-packages (from tensorboard<2.12,>=2.11->tensorflow-intel==2.11.0->tensorflow) (1.8.1)\n",
      "Requirement already satisfied: werkzeug>=1.0.1 in c:\\users\\hp\\anaconda3\\lib\\site-packages (from tensorboard<2.12,>=2.11->tensorflow-intel==2.11.0->tensorflow) (2.0.3)\n",
      "Requirement already satisfied: tensorboard-data-server<0.7.0,>=0.6.0 in c:\\users\\hp\\anaconda3\\lib\\site-packages (from tensorboard<2.12,>=2.11->tensorflow-intel==2.11.0->tensorflow) (0.6.1)\n",
      "Requirement already satisfied: markdown>=2.6.8 in c:\\users\\hp\\anaconda3\\lib\\site-packages (from tensorboard<2.12,>=2.11->tensorflow-intel==2.11.0->tensorflow) (3.3.4)\n",
      "Requirement already satisfied: google-auth<3,>=1.6.3 in c:\\users\\hp\\anaconda3\\lib\\site-packages (from tensorboard<2.12,>=2.11->tensorflow-intel==2.11.0->tensorflow) (2.16.2)\n",
      "Requirement already satisfied: pyparsing!=3.0.5,>=2.0.2 in c:\\users\\hp\\anaconda3\\lib\\site-packages (from packaging->tensorflow-intel==2.11.0->tensorflow) (3.0.9)\n",
      "Requirement already satisfied: pyasn1-modules>=0.2.1 in c:\\users\\hp\\anaconda3\\lib\\site-packages (from google-auth<3,>=1.6.3->tensorboard<2.12,>=2.11->tensorflow-intel==2.11.0->tensorflow) (0.2.8)\n",
      "Requirement already satisfied: cachetools<6.0,>=2.0.0 in c:\\users\\hp\\anaconda3\\lib\\site-packages (from google-auth<3,>=1.6.3->tensorboard<2.12,>=2.11->tensorflow-intel==2.11.0->tensorflow) (5.3.0)\n",
      "Requirement already satisfied: rsa<5,>=3.1.4 in c:\\users\\hp\\anaconda3\\lib\\site-packages (from google-auth<3,>=1.6.3->tensorboard<2.12,>=2.11->tensorflow-intel==2.11.0->tensorflow) (4.9)\n",
      "Requirement already satisfied: requests-oauthlib>=0.7.0 in c:\\users\\hp\\anaconda3\\lib\\site-packages (from google-auth-oauthlib<0.5,>=0.4.1->tensorboard<2.12,>=2.11->tensorflow-intel==2.11.0->tensorflow) (1.3.1)\n",
      "Requirement already satisfied: urllib3<1.27,>=1.21.1 in c:\\users\\hp\\anaconda3\\lib\\site-packages (from requests<3,>=2.21.0->tensorboard<2.12,>=2.11->tensorflow-intel==2.11.0->tensorflow) (1.26.11)\n",
      "Requirement already satisfied: idna<4,>=2.5 in c:\\users\\hp\\anaconda3\\lib\\site-packages (from requests<3,>=2.21.0->tensorboard<2.12,>=2.11->tensorflow-intel==2.11.0->tensorflow) (3.3)\n",
      "Requirement already satisfied: certifi>=2017.4.17 in c:\\users\\hp\\anaconda3\\lib\\site-packages (from requests<3,>=2.21.0->tensorboard<2.12,>=2.11->tensorflow-intel==2.11.0->tensorflow) (2022.9.14)\n",
      "Requirement already satisfied: charset-normalizer<3,>=2 in c:\\users\\hp\\anaconda3\\lib\\site-packages (from requests<3,>=2.21.0->tensorboard<2.12,>=2.11->tensorflow-intel==2.11.0->tensorflow) (2.0.4)\n",
      "Requirement already satisfied: pyasn1<0.5.0,>=0.4.6 in c:\\users\\hp\\anaconda3\\lib\\site-packages (from pyasn1-modules>=0.2.1->google-auth<3,>=1.6.3->tensorboard<2.12,>=2.11->tensorflow-intel==2.11.0->tensorflow) (0.4.8)\n",
      "Requirement already satisfied: oauthlib>=3.0.0 in c:\\users\\hp\\anaconda3\\lib\\site-packages (from requests-oauthlib>=0.7.0->google-auth-oauthlib<0.5,>=0.4.1->tensorboard<2.12,>=2.11->tensorflow-intel==2.11.0->tensorflow) (3.2.2)\n"
     ]
    }
   ],
   "source": [
    "!pip install tensorflow\n"
   ]
  },
  {
   "cell_type": "code",
   "execution_count": 5,
   "id": "6a0606c2",
   "metadata": {},
   "outputs": [],
   "source": [
    "import tensorflow as tf\n",
    "from tensorflow.keras.datasets import imdb\n",
    "\n",
    "(x_train, y_train), (x_test, y_test) = imdb.load_data(num_words=10000)"
   ]
  },
  {
   "cell_type": "code",
   "execution_count": 6,
   "id": "f273bf1a",
   "metadata": {},
   "outputs": [],
   "source": [
    "from tensorflow.keras.preprocessing.sequence import pad_sequences\n",
    "from tensorflow.keras.utils import to_categorical\n",
    "\n",
    "maxlen = 200\n",
    "\n",
    "x_train = pad_sequences(x_train, maxlen=maxlen)\n",
    "x_test = pad_sequences(x_test, maxlen=maxlen)\n",
    "\n",
    "y_train = to_categorical(y_train)\n",
    "y_test = to_categorical(y_test)\n"
   ]
  },
  {
   "cell_type": "code",
   "execution_count": 7,
   "id": "4df705c6",
   "metadata": {},
   "outputs": [],
   "source": [
    "from tensorflow.keras.models import Sequential\n",
    "from tensorflow.keras.layers import Dense, Embedding, SimpleRNN, GRU, LSTM\n",
    "\n",
    "# RNN model\n",
    "model_rnn = Sequential()\n",
    "model_rnn.add(Embedding(input_dim=10000, output_dim=32, input_length=maxlen))\n",
    "model_rnn.add(SimpleRNN(units=32))\n",
    "model_rnn.add(Dense(units=2, activation='softmax'))\n",
    "\n",
    "# GRU model\n",
    "model_gru = Sequential()\n",
    "model_gru.add(Embedding(input_dim=10000, output_dim=32, input_length=maxlen))\n",
    "model_gru.add(GRU(units=32))\n",
    "model_gru.add(Dense(units=2, activation='softmax'))\n",
    "\n",
    "# LSTM model\n",
    "model_lstm = Sequential()\n",
    "model_lstm.add(Embedding(input_dim=10000, output_dim=32, input_length=maxlen))\n",
    "model_lstm.add(LSTM(units=32))\n",
    "model_lstm.add(Dense(units=2, activation='softmax'))"
   ]
  },
  {
   "cell_type": "code",
   "execution_count": 8,
   "id": "500fe862",
   "metadata": {},
   "outputs": [
    {
     "name": "stdout",
     "output_type": "stream",
     "text": [
      "Epoch 1/10\n",
      "157/157 [==============================] - 9s 53ms/step - loss: 0.5607 - accuracy: 0.7049 - val_loss: 0.4249 - val_accuracy: 0.8190\n",
      "Epoch 2/10\n",
      "157/157 [==============================] - 11s 67ms/step - loss: 0.3578 - accuracy: 0.8482 - val_loss: 0.4835 - val_accuracy: 0.8138\n",
      "Epoch 3/10\n",
      "157/157 [==============================] - 12s 78ms/step - loss: 0.2687 - accuracy: 0.8928 - val_loss: 0.3936 - val_accuracy: 0.8226\n",
      "Epoch 4/10\n",
      "157/157 [==============================] - 11s 69ms/step - loss: 0.1987 - accuracy: 0.9265 - val_loss: 0.4365 - val_accuracy: 0.8530\n",
      "Epoch 5/10\n",
      "157/157 [==============================] - 10s 62ms/step - loss: 0.1344 - accuracy: 0.9518 - val_loss: 0.4840 - val_accuracy: 0.8088\n",
      "Epoch 6/10\n",
      "157/157 [==============================] - 11s 68ms/step - loss: 0.0865 - accuracy: 0.9706 - val_loss: 0.5001 - val_accuracy: 0.8618\n",
      "Epoch 7/10\n",
      "157/157 [==============================] - 10s 66ms/step - loss: 0.0597 - accuracy: 0.9801 - val_loss: 0.6677 - val_accuracy: 0.7772\n",
      "Epoch 8/10\n",
      "157/157 [==============================] - 10s 61ms/step - loss: 0.0303 - accuracy: 0.9916 - val_loss: 0.6220 - val_accuracy: 0.8316\n",
      "Epoch 9/10\n",
      "157/157 [==============================] - 10s 63ms/step - loss: 0.0232 - accuracy: 0.9932 - val_loss: 0.7376 - val_accuracy: 0.7954\n",
      "Epoch 10/10\n",
      "157/157 [==============================] - 9s 57ms/step - loss: 0.0284 - accuracy: 0.9923 - val_loss: 0.7380 - val_accuracy: 0.8106\n",
      "Epoch 1/10\n",
      "157/157 [==============================] - 21s 119ms/step - loss: 0.6056 - accuracy: 0.6507 - val_loss: 0.5553 - val_accuracy: 0.7190\n",
      "Epoch 2/10\n",
      "157/157 [==============================] - 18s 114ms/step - loss: 0.3478 - accuracy: 0.8512 - val_loss: 0.3810 - val_accuracy: 0.8276\n",
      "Epoch 3/10\n",
      "157/157 [==============================] - 18s 113ms/step - loss: 0.2733 - accuracy: 0.8884 - val_loss: 0.3117 - val_accuracy: 0.8736\n",
      "Epoch 4/10\n",
      "157/157 [==============================] - 18s 114ms/step - loss: 0.2313 - accuracy: 0.9076 - val_loss: 0.4263 - val_accuracy: 0.8430\n",
      "Epoch 5/10\n",
      "157/157 [==============================] - 18s 115ms/step - loss: 0.2068 - accuracy: 0.9204 - val_loss: 0.3308 - val_accuracy: 0.8766\n",
      "Epoch 6/10\n",
      "157/157 [==============================] - 19s 119ms/step - loss: 0.1815 - accuracy: 0.9308 - val_loss: 0.3333 - val_accuracy: 0.8622\n",
      "Epoch 7/10\n",
      "157/157 [==============================] - 18s 117ms/step - loss: 0.1662 - accuracy: 0.9374 - val_loss: 0.3280 - val_accuracy: 0.8730\n",
      "Epoch 8/10\n",
      "157/157 [==============================] - 18s 117ms/step - loss: 0.1484 - accuracy: 0.9447 - val_loss: 0.3326 - val_accuracy: 0.8630\n",
      "Epoch 9/10\n",
      "157/157 [==============================] - 17s 107ms/step - loss: 0.1320 - accuracy: 0.9527 - val_loss: 0.3456 - val_accuracy: 0.8688\n",
      "Epoch 10/10\n",
      "157/157 [==============================] - 17s 106ms/step - loss: 0.1213 - accuracy: 0.9559 - val_loss: 0.4186 - val_accuracy: 0.8376\n",
      "Epoch 1/10\n",
      "157/157 [==============================] - 20s 116ms/step - loss: 0.5723 - accuracy: 0.6854 - val_loss: 0.3705 - val_accuracy: 0.8436\n",
      "Epoch 2/10\n",
      "157/157 [==============================] - 19s 121ms/step - loss: 0.3274 - accuracy: 0.8643 - val_loss: 0.3146 - val_accuracy: 0.8696\n",
      "Epoch 3/10\n",
      "157/157 [==============================] - 18s 116ms/step - loss: 0.2523 - accuracy: 0.9004 - val_loss: 0.2945 - val_accuracy: 0.8762\n",
      "Epoch 4/10\n",
      "157/157 [==============================] - 18s 116ms/step - loss: 0.2171 - accuracy: 0.9155 - val_loss: 0.3861 - val_accuracy: 0.8334\n",
      "Epoch 5/10\n",
      "157/157 [==============================] - 21s 135ms/step - loss: 0.1862 - accuracy: 0.9315 - val_loss: 0.3015 - val_accuracy: 0.8732\n",
      "Epoch 6/10\n",
      "157/157 [==============================] - 20s 130ms/step - loss: 0.1676 - accuracy: 0.9378 - val_loss: 0.3261 - val_accuracy: 0.8652\n",
      "Epoch 7/10\n",
      "157/157 [==============================] - 20s 129ms/step - loss: 0.1483 - accuracy: 0.9459 - val_loss: 0.3413 - val_accuracy: 0.8510\n",
      "Epoch 8/10\n",
      "157/157 [==============================] - 19s 124ms/step - loss: 0.1321 - accuracy: 0.9520 - val_loss: 0.3480 - val_accuracy: 0.8714\n",
      "Epoch 9/10\n",
      "157/157 [==============================] - 18s 114ms/step - loss: 0.1191 - accuracy: 0.9578 - val_loss: 0.3984 - val_accuracy: 0.8734\n",
      "Epoch 10/10\n",
      "157/157 [==============================] - 18s 113ms/step - loss: 0.1118 - accuracy: 0.9585 - val_loss: 0.4770 - val_accuracy: 0.8436\n"
     ]
    },
    {
     "data": {
      "text/plain": [
       "<keras.callbacks.History at 0x296e9473fd0>"
      ]
     },
     "execution_count": 8,
     "metadata": {},
     "output_type": "execute_result"
    }
   ],
   "source": [
    "model_rnn.compile(loss='categorical_crossentropy', optimizer='rmsprop', metrics=['accuracy'])\n",
    "model_rnn.fit(x_train, y_train, epochs=10, batch_size=128, validation_split=0.2)\n",
    "\n",
    "model_gru.compile(loss='categorical_crossentropy', optimizer='rmsprop', metrics=['accuracy'])\n",
    "model_gru.fit(x_train, y_train, epochs=10, batch_size=128, validation_split=0.2)\n",
    "\n",
    "model_lstm.compile(loss='categorical_crossentropy', optimizer='rmsprop', metrics=['accuracy'])\n",
    "model_lstm.fit(x_train, y_train, epochs=10, batch_size=128, validation_split=0.2)"
   ]
  },
  {
   "cell_type": "code",
   "execution_count": 9,
   "id": "f1068d1b",
   "metadata": {},
   "outputs": [
    {
     "name": "stdout",
     "output_type": "stream",
     "text": [
      "RNN Test Accuracy: 0.8164799809455872\n",
      "GRU Test Accuracy: 0.8394799828529358\n",
      "LSTM Test Accuracy: 0.8244799971580505\n"
     ]
    }
   ],
   "source": [
    "score_rnn = model_rnn.evaluate(x_test, y_test, verbose=0)\n",
    "print(\"RNN Test Accuracy:\", score_rnn[1])\n",
    "\n",
    "score_gru = model_gru.evaluate(x_test, y_test, verbose=0)\n",
    "print(\"GRU Test Accuracy:\", score_gru[1])\n",
    "\n",
    "score_lstm = model_lstm.evaluate(x_test, y_test, verbose=0)\n",
    "print(\"LSTM Test Accuracy:\", score_lstm[1])"
   ]
  },
  {
   "cell_type": "code",
   "execution_count": null,
   "id": "c3217c7a",
   "metadata": {},
   "outputs": [],
   "source": []
  }
 ],
 "metadata": {
  "kernelspec": {
   "display_name": "Python 3 (ipykernel)",
   "language": "python",
   "name": "python3"
  },
  "language_info": {
   "codemirror_mode": {
    "name": "ipython",
    "version": 3
   },
   "file_extension": ".py",
   "mimetype": "text/x-python",
   "name": "python",
   "nbconvert_exporter": "python",
   "pygments_lexer": "ipython3",
   "version": "3.9.13"
  }
 },
 "nbformat": 4,
 "nbformat_minor": 5
}
